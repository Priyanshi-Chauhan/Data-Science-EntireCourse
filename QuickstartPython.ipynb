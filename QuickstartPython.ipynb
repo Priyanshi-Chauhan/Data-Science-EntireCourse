{
  "nbformat": 4,
  "nbformat_minor": 0,
  "metadata": {
    "colab": {
      "name": "QuickstartPython.ipynb",
      "provenance": []
    },
    "kernelspec": {
      "name": "python3",
      "display_name": "Python 3"
    }
  },
  "cells": [
    {
      "cell_type": "code",
      "metadata": {
        "colab": {
          "base_uri": "https://localhost:8080/"
        },
        "id": "VWkjKIU7cWRO",
        "outputId": "7596ebbd-9c19-4008-e04a-4ce28477ed6f"
      },
      "source": [
        "#Taking Input\n",
        "numbers = input()"
      ],
      "execution_count": null,
      "outputs": [
        {
          "output_type": "stream",
          "text": [
            "12345\n"
          ],
          "name": "stdout"
        }
      ]
    },
    {
      "cell_type": "code",
      "metadata": {
        "colab": {
          "base_uri": "https://localhost:8080/"
        },
        "id": "IG02kmhkchcv",
        "outputId": "d4819313-66e2-4934-d2d4-cd0292a58e72"
      },
      "source": [
        "print(type(numbers))"
      ],
      "execution_count": null,
      "outputs": [
        {
          "output_type": "stream",
          "text": [
            "<class 'str'>\n"
          ],
          "name": "stdout"
        }
      ]
    },
    {
      "cell_type": "code",
      "metadata": {
        "colab": {
          "base_uri": "https://localhost:8080/"
        },
        "id": "gfjB9FDfcyxd",
        "outputId": "9a12fd25-946e-4af1-e1c9-f0c9067348df"
      },
      "source": [
        "numbers=input()"
      ],
      "execution_count": null,
      "outputs": [
        {
          "output_type": "stream",
          "text": [
            "1 2 3 4 5 \n"
          ],
          "name": "stdout"
        }
      ]
    },
    {
      "cell_type": "code",
      "metadata": {
        "colab": {
          "base_uri": "https://localhost:8080/"
        },
        "id": "P9aLuWaGc1gS",
        "outputId": "1b383939-755f-492b-ba55-ed740068e0c7"
      },
      "source": [
        "print(type(numbers))"
      ],
      "execution_count": null,
      "outputs": [
        {
          "output_type": "stream",
          "text": [
            "<class 'str'>\n"
          ],
          "name": "stdout"
        }
      ]
    },
    {
      "cell_type": "code",
      "metadata": {
        "id": "uHwsnW2kc7uz"
      },
      "source": [
        "num=numbers.split()"
      ],
      "execution_count": null,
      "outputs": []
    },
    {
      "cell_type": "code",
      "metadata": {
        "colab": {
          "base_uri": "https://localhost:8080/"
        },
        "id": "Q7aRnsTEdB_y",
        "outputId": "2fd87bea-5d09-45cb-c14a-81db7a2375b0"
      },
      "source": [
        "print(num)"
      ],
      "execution_count": null,
      "outputs": [
        {
          "output_type": "stream",
          "text": [
            "['1', '2', '3', '4', '5']\n"
          ],
          "name": "stdout"
        }
      ]
    },
    {
      "cell_type": "code",
      "metadata": {
        "colab": {
          "base_uri": "https://localhost:8080/",
          "height": 35
        },
        "id": "msojCA9OdDcd",
        "outputId": "b32ebe28-bbc6-43d7-a774-2a4e76460d75"
      },
      "source": [
        "num[0]"
      ],
      "execution_count": null,
      "outputs": [
        {
          "output_type": "execute_result",
          "data": {
            "application/vnd.google.colaboratory.intrinsic+json": {
              "type": "string"
            },
            "text/plain": [
              "'1'"
            ]
          },
          "metadata": {
            "tags": []
          },
          "execution_count": 9
        }
      ]
    },
    {
      "cell_type": "code",
      "metadata": {
        "colab": {
          "base_uri": "https://localhost:8080/"
        },
        "id": "2z7psCFLdItW",
        "outputId": "890b46d9-35dc-4f90-bab8-7a466d3556fe"
      },
      "source": [
        "type(num[0])"
      ],
      "execution_count": null,
      "outputs": [
        {
          "output_type": "execute_result",
          "data": {
            "text/plain": [
              "str"
            ]
          },
          "metadata": {
            "tags": []
          },
          "execution_count": 10
        }
      ]
    },
    {
      "cell_type": "code",
      "metadata": {
        "id": "mCiujLbxdLDk"
      },
      "source": [
        "num[0]=int(num[0])"
      ],
      "execution_count": null,
      "outputs": []
    },
    {
      "cell_type": "code",
      "metadata": {
        "colab": {
          "base_uri": "https://localhost:8080/"
        },
        "id": "O2IQ_6RqdNJc",
        "outputId": "15cb8a57-df9b-4b39-a6eb-533cc22812bf"
      },
      "source": [
        "type(num[0])"
      ],
      "execution_count": null,
      "outputs": [
        {
          "output_type": "execute_result",
          "data": {
            "text/plain": [
              "int"
            ]
          },
          "metadata": {
            "tags": []
          },
          "execution_count": 14
        }
      ]
    },
    {
      "cell_type": "code",
      "metadata": {
        "id": "jbKp0DNldQH_"
      },
      "source": [
        "num_list_char=\"12345\".split()"
      ],
      "execution_count": null,
      "outputs": []
    },
    {
      "cell_type": "code",
      "metadata": {
        "colab": {
          "base_uri": "https://localhost:8080/"
        },
        "id": "LRLJ_Vqndeyx",
        "outputId": "fa4d1597-0f4d-4854-82bf-96da5fec30d7"
      },
      "source": [
        "print(num_list_char)"
      ],
      "execution_count": null,
      "outputs": [
        {
          "output_type": "stream",
          "text": [
            "['12345']\n"
          ],
          "name": "stdout"
        }
      ]
    },
    {
      "cell_type": "code",
      "metadata": {
        "colab": {
          "base_uri": "https://localhost:8080/"
        },
        "id": "5Bvn2UN_dr0P",
        "outputId": "fc55f809-57ce-4f8c-b77e-f8d05a6d49bc"
      },
      "source": [
        "numbers=input()"
      ],
      "execution_count": null,
      "outputs": [
        {
          "output_type": "stream",
          "text": [
            "12345\n"
          ],
          "name": "stdout"
        }
      ]
    },
    {
      "cell_type": "code",
      "metadata": {
        "id": "OEegP2k4dt7_"
      },
      "source": [
        "numbers=numbers.split()"
      ],
      "execution_count": null,
      "outputs": []
    },
    {
      "cell_type": "code",
      "metadata": {
        "colab": {
          "base_uri": "https://localhost:8080/"
        },
        "id": "J8vScFfady-4",
        "outputId": "d10898a1-7a3a-4960-adfb-6fd4810e5915"
      },
      "source": [
        "numbers"
      ],
      "execution_count": null,
      "outputs": [
        {
          "output_type": "execute_result",
          "data": {
            "text/plain": [
              "['12345']"
            ]
          },
          "metadata": {
            "tags": []
          },
          "execution_count": 19
        }
      ]
    },
    {
      "cell_type": "code",
      "metadata": {
        "id": "qCzZhvDPd0Na"
      },
      "source": [
        "num= [int (x) for x in numbers]      #  list comprehension"
      ],
      "execution_count": null,
      "outputs": []
    },
    {
      "cell_type": "code",
      "metadata": {
        "colab": {
          "base_uri": "https://localhost:8080/"
        },
        "id": "iKkUjjkDeoQ_",
        "outputId": "7d08d79e-59b1-4a9d-ea72-3a9d6432eb05"
      },
      "source": [
        "print(num)"
      ],
      "execution_count": null,
      "outputs": [
        {
          "output_type": "stream",
          "text": [
            "[12345]\n"
          ],
          "name": "stdout"
        }
      ]
    },
    {
      "cell_type": "code",
      "metadata": {
        "colab": {
          "base_uri": "https://localhost:8080/",
          "height": 178
        },
        "id": "0-Q9pSvcepok",
        "outputId": "d2ba6993-73e6-4d42-a488-869c02f5e7e2"
      },
      "source": [
        "numbers =int(input())    # we cant use space here in the integer input"
      ],
      "execution_count": null,
      "outputs": [
        {
          "output_type": "stream",
          "text": [
            "1 3 4 5 6 \n"
          ],
          "name": "stdout"
        },
        {
          "output_type": "error",
          "ename": "ValueError",
          "evalue": "ignored",
          "traceback": [
            "\u001b[0;31m---------------------------------------------------------------------------\u001b[0m",
            "\u001b[0;31mValueError\u001b[0m                                Traceback (most recent call last)",
            "\u001b[0;32m<ipython-input-23-ebb03caad5ef>\u001b[0m in \u001b[0;36m<module>\u001b[0;34m()\u001b[0m\n\u001b[0;32m----> 1\u001b[0;31m \u001b[0mnumbers\u001b[0m \u001b[0;34m=\u001b[0m\u001b[0mint\u001b[0m\u001b[0;34m(\u001b[0m\u001b[0minput\u001b[0m\u001b[0;34m(\u001b[0m\u001b[0;34m)\u001b[0m\u001b[0;34m)\u001b[0m\u001b[0;34m\u001b[0m\u001b[0;34m\u001b[0m\u001b[0m\n\u001b[0m",
            "\u001b[0;31mValueError\u001b[0m: invalid literal for int() with base 10: '1 3 4 5 6 '"
          ]
        }
      ]
    },
    {
      "cell_type": "code",
      "metadata": {
        "colab": {
          "base_uri": "https://localhost:8080/"
        },
        "id": "HYQJWiuDeyyg",
        "outputId": "6b2e6430-bb48-414c-88b6-e3342ab451d5"
      },
      "source": [
        "numbers=input()"
      ],
      "execution_count": null,
      "outputs": [
        {
          "output_type": "stream",
          "text": [
            "14 44 2 23\n"
          ],
          "name": "stdout"
        }
      ]
    },
    {
      "cell_type": "code",
      "metadata": {
        "colab": {
          "base_uri": "https://localhost:8080/"
        },
        "id": "TcPC-43xe6wL",
        "outputId": "25cff107-cd04-4f5b-cc59-c261d9ed57bf"
      },
      "source": [
        "number =int(input())"
      ],
      "execution_count": null,
      "outputs": [
        {
          "output_type": "stream",
          "text": [
            "8332\n"
          ],
          "name": "stdout"
        }
      ]
    },
    {
      "cell_type": "code",
      "metadata": {
        "colab": {
          "base_uri": "https://localhost:8080/"
        },
        "id": "KOYALsGVfAd6",
        "outputId": "12de1d58-6d40-4d68-abec-6d43df18b970"
      },
      "source": [
        "type(number)"
      ],
      "execution_count": null,
      "outputs": [
        {
          "output_type": "execute_result",
          "data": {
            "text/plain": [
              "int"
            ]
          },
          "metadata": {
            "tags": []
          },
          "execution_count": 26
        }
      ]
    },
    {
      "cell_type": "code",
      "metadata": {
        "colab": {
          "base_uri": "https://localhost:8080/"
        },
        "id": "EjiHTdc0fD2H",
        "outputId": "f3576d13-5d6c-45f0-9914-c8dce28074e8"
      },
      "source": [
        "a=input(\"enter your name\")"
      ],
      "execution_count": null,
      "outputs": [
        {
          "output_type": "stream",
          "text": [
            "enter your namepriyanshi chauhan \n"
          ],
          "name": "stdout"
        }
      ]
    },
    {
      "cell_type": "code",
      "metadata": {
        "colab": {
          "base_uri": "https://localhost:8080/",
          "height": 35
        },
        "id": "e01xjK8IfHe_",
        "outputId": "f73573a0-2ac7-45cc-f7b7-221622b4c52f"
      },
      "source": [
        "a"
      ],
      "execution_count": null,
      "outputs": [
        {
          "output_type": "execute_result",
          "data": {
            "application/vnd.google.colaboratory.intrinsic+json": {
              "type": "string"
            },
            "text/plain": [
              "'priyanshi chauhan '"
            ]
          },
          "metadata": {
            "tags": []
          },
          "execution_count": 28
        }
      ]
    },
    {
      "cell_type": "code",
      "metadata": {
        "colab": {
          "base_uri": "https://localhost:8080/"
        },
        "id": "VLILPZ6vfMGH",
        "outputId": "40a7af66-3e01-48f3-9390-96aa586f18d8"
      },
      "source": [
        "numbers=input()"
      ],
      "execution_count": null,
      "outputs": [
        {
          "output_type": "stream",
          "text": [
            "11 22 33 44 55\n"
          ],
          "name": "stdout"
        }
      ]
    },
    {
      "cell_type": "code",
      "metadata": {
        "colab": {
          "base_uri": "https://localhost:8080/"
        },
        "id": "btMMU6rJfTBA",
        "outputId": "cdd22eca-397b-4280-8774-80e66a47b297"
      },
      "source": [
        "for i in numbers:\n",
        "  print(i)"
      ],
      "execution_count": null,
      "outputs": [
        {
          "output_type": "stream",
          "text": [
            "1\n",
            "1\n",
            " \n",
            "2\n",
            "2\n",
            " \n",
            "3\n",
            "3\n",
            " \n",
            "4\n",
            "4\n",
            " \n",
            "5\n",
            "5\n"
          ],
          "name": "stdout"
        }
      ]
    },
    {
      "cell_type": "code",
      "metadata": {
        "colab": {
          "base_uri": "https://localhost:8080/"
        },
        "id": "kdYqu2hefYni",
        "outputId": "4a2f17b8-d3a8-4e0c-b132-8253956dcd7f"
      },
      "source": [
        "numbers=input()"
      ],
      "execution_count": null,
      "outputs": [
        {
          "output_type": "stream",
          "text": [
            "4567\n"
          ],
          "name": "stdout"
        }
      ]
    },
    {
      "cell_type": "code",
      "metadata": {
        "colab": {
          "base_uri": "https://localhost:8080/"
        },
        "id": "iTgYtKaxfgJr",
        "outputId": "39bab7f6-d7a2-4bca-9780-fdbada9c3c7d"
      },
      "source": [
        "for i in numbers:\n",
        "  print(i) "
      ],
      "execution_count": null,
      "outputs": [
        {
          "output_type": "stream",
          "text": [
            "4\n",
            "5\n",
            "6\n",
            "7\n"
          ],
          "name": "stdout"
        }
      ]
    },
    {
      "cell_type": "code",
      "metadata": {
        "colab": {
          "base_uri": "https://localhost:8080/"
        },
        "id": "eUe-TBwzfpbB",
        "outputId": "6dc29814-86b4-492b-a1ad-748963ef9fbb"
      },
      "source": [
        "for i in numbers:\n",
        "  if i=='4':\n",
        "    print(\"priyanshi\")\n",
        "  elif i=='5':\n",
        "    print(\"chauhan\") \n",
        "  elif i=='6':\n",
        "    print(\"hehe\")\n",
        "  else:\n",
        "    print(\"invalid\")\n"
      ],
      "execution_count": null,
      "outputs": [
        {
          "output_type": "stream",
          "text": [
            "priyanshi\n",
            "chauhan\n",
            "hehe\n",
            "invalid\n"
          ],
          "name": "stdout"
        }
      ]
    },
    {
      "cell_type": "code",
      "metadata": {
        "colab": {
          "base_uri": "https://localhost:8080/"
        },
        "id": "d59ZgcV9f8LR",
        "outputId": "fc6e5fda-782b-418f-ac56-fcee67f0512e"
      },
      "source": [
        "#Now if there are 100 of entries we wont prefer using else if\n",
        "#will make a hashmap or a dictionary\n",
        "pack={1:\"priyanshi\",2:\"chauhan\",3:\"sallu\",4:\"sona\",5:\"mathallu\"}\n",
        "if(pack.get(6) is None):\n",
        "  print(\"not found\")\n",
        "else :\n",
        "  print(pack[6])  "
      ],
      "execution_count": null,
      "outputs": [
        {
          "output_type": "stream",
          "text": [
            "not found\n"
          ],
          "name": "stdout"
        }
      ]
    },
    {
      "cell_type": "code",
      "metadata": {
        "colab": {
          "base_uri": "https://localhost:8080/"
        },
        "id": "lsnBZ9idjmvg",
        "outputId": "0a98f2ac-44b7-4e5f-bceb-cc69495553a0"
      },
      "source": [
        "numbers=input()"
      ],
      "execution_count": 12,
      "outputs": [
        {
          "output_type": "stream",
          "text": [
            "1 2 3 4 5 6 \n"
          ],
          "name": "stdout"
        }
      ]
    },
    {
      "cell_type": "code",
      "metadata": {
        "id": "iMz70QlCbfT_"
      },
      "source": [
        "numbers=numbers.split()"
      ],
      "execution_count": 13,
      "outputs": []
    },
    {
      "cell_type": "code",
      "metadata": {
        "colab": {
          "base_uri": "https://localhost:8080/"
        },
        "id": "O0LIP9vtjLqr",
        "outputId": "c6fad036-a0af-407d-c632-c57c763e236e"
      },
      "source": [
        "pack={'1':\"priyanshi\",'2':\"chauhan\",'3':\"sallu\",'4':\"sona\",'5':\"mathallu\"}\n",
        "for i in numbers:\n",
        "  if (pack.get(i) is None):\n",
        "    print(\"not found\")\n",
        "  else:\n",
        "    print(pack[i])  "
      ],
      "execution_count": 14,
      "outputs": [
        {
          "output_type": "stream",
          "text": [
            "priyanshi\n",
            "chauhan\n",
            "sallu\n",
            "sona\n",
            "mathallu\n",
            "not found\n"
          ],
          "name": "stdout"
        }
      ]
    },
    {
      "cell_type": "code",
      "metadata": {
        "id": "UKIhfioYjfH3",
        "colab": {
          "base_uri": "https://localhost:8080/"
        },
        "outputId": "b6f0fe37-ad64-4f4e-edc5-7dc73eaa3b7a"
      },
      "source": [
        "# we can also use list here with tuple inside it \n",
        "# tuple is a read only list\n",
        "pokemon=[(\"bulbasaur\",200),(\"pikachu\",300),(\"charmender\",300,900)]\n",
        "pokemon[0]"
      ],
      "execution_count": 15,
      "outputs": [
        {
          "output_type": "execute_result",
          "data": {
            "text/plain": [
              "('bulbasaur', 200)"
            ]
          },
          "metadata": {
            "tags": []
          },
          "execution_count": 15
        }
      ]
    },
    {
      "cell_type": "code",
      "metadata": {
        "colab": {
          "base_uri": "https://localhost:8080/"
        },
        "id": "j-XDdlPkcfIb",
        "outputId": "b3089a6d-3494-4ec4-b58a-ff88db5cac80"
      },
      "source": [
        "pokemon[2]"
      ],
      "execution_count": 16,
      "outputs": [
        {
          "output_type": "execute_result",
          "data": {
            "text/plain": [
              "('charmender', 300, 900)"
            ]
          },
          "metadata": {
            "tags": []
          },
          "execution_count": 16
        }
      ]
    },
    {
      "cell_type": "code",
      "metadata": {
        "id": "jZldyUuxciBB"
      },
      "source": [
        "#we can define a function also\n",
        "def printpokemon(numbers):\n",
        "  pokemon={\n",
        "      1:200,\n",
        "      2:300,\n",
        "      3:360 \n",
        "  }\n",
        "  for i in numbers:\n",
        "    if(pokemon.get(i) is None):\n",
        "      print(\"not found\")\n",
        "    else :\n",
        "      print(pokemon[i])\n",
        "  return       "
      ],
      "execution_count": 19,
      "outputs": []
    },
    {
      "cell_type": "code",
      "metadata": {
        "colab": {
          "base_uri": "https://localhost:8080/"
        },
        "id": "k0qv5WmPdtZD",
        "outputId": "27128c41-4831-4971-902e-35f572fb4f59"
      },
      "source": [
        "numbers=[int(x) for x in input().split()]"
      ],
      "execution_count": 20,
      "outputs": [
        {
          "output_type": "stream",
          "text": [
            "1 3 2 4 \n"
          ],
          "name": "stdout"
        }
      ]
    },
    {
      "cell_type": "code",
      "metadata": {
        "colab": {
          "base_uri": "https://localhost:8080/"
        },
        "id": "X1vyNtgTd3P4",
        "outputId": "ba8560cc-c2b4-4551-e26b-ba46203a8a03"
      },
      "source": [
        "printpokemon(numbers)"
      ],
      "execution_count": 21,
      "outputs": [
        {
          "output_type": "stream",
          "text": [
            "200\n",
            "360\n",
            "300\n",
            "not found\n"
          ],
          "name": "stdout"
        }
      ]
    },
    {
      "cell_type": "code",
      "metadata": {
        "id": "NduP9T8ceNlB"
      },
      "source": [
        ""
      ],
      "execution_count": null,
      "outputs": []
    }
  ]
}